{
  "nbformat": 4,
  "nbformat_minor": 0,
  "metadata": {
    "colab": {
      "provenance": []
    },
    "kernelspec": {
      "name": "python3",
      "display_name": "Python 3"
    },
    "language_info": {
      "name": "python"
    }
  },
  "cells": [
    {
      "cell_type": "markdown",
      "source": [
        "Explain with an example each when to use a for loop and a while loop."
      ],
      "metadata": {
        "id": "SI7yfo_C_Vqf"
      }
    },
    {
      "cell_type": "code",
      "execution_count": 1,
      "metadata": {
        "colab": {
          "base_uri": "https://localhost:8080/"
        },
        "id": "LCCmBcAb_Oe8",
        "outputId": "44a95406-6613-4ca5-8fc1-269730af421f"
      },
      "outputs": [
        {
          "output_type": "stream",
          "name": "stdout",
          "text": [
            "1\n",
            "2\n",
            "3\n",
            "4\n",
            "5\n"
          ]
        }
      ],
      "source": [
        "#for loop\n",
        "#Printing numbers from 1 to 5\n",
        "for i in range(1, 6):\n",
        "    print(i)"
      ]
    },
    {
      "cell_type": "code",
      "source": [
        "#while loop\n",
        "#Print numbers from 1 to 5 using a while loop\n",
        "num = 1\n",
        "while num <= 5:\n",
        "    print(num)\n",
        "    num += 1  # Increment num by 1"
      ],
      "metadata": {
        "colab": {
          "base_uri": "https://localhost:8080/"
        },
        "id": "pldW2v32_zge",
        "outputId": "7dde5a1e-93e3-4da9-a628-542a1ef6f372"
      },
      "execution_count": 2,
      "outputs": [
        {
          "output_type": "stream",
          "name": "stdout",
          "text": [
            "1\n",
            "2\n",
            "3\n",
            "4\n",
            "5\n"
          ]
        }
      ]
    },
    {
      "cell_type": "markdown",
      "source": [
        "2-Write a python program to print the sum and product of the first 10 natural numbers using for\n",
        "and while loop."
      ],
      "metadata": {
        "id": "6ug3xyo3_6M-"
      }
    },
    {
      "cell_type": "code",
      "source": [
        "sum_for = 0\n",
        "product_for = 1\n",
        "\n",
        "for i in range(1, 11):\n",
        "    sum_for += i\n",
        "    product_for *= i\n",
        "\n",
        "print(\"Using for loop:\")\n",
        "print(\"Sum:\", sum_for)\n",
        "print(\"Product:\", product_for)"
      ],
      "metadata": {
        "colab": {
          "base_uri": "https://localhost:8080/"
        },
        "id": "Gt8zRaRL_58S",
        "outputId": "0facc2c2-d35b-4021-82dc-e373b68ded87"
      },
      "execution_count": 3,
      "outputs": [
        {
          "output_type": "stream",
          "name": "stdout",
          "text": [
            "Using for loop:\n",
            "Sum: 55\n",
            "Product: 3628800\n"
          ]
        }
      ]
    },
    {
      "cell_type": "code",
      "source": [
        "# Using a while loop\n",
        "sum_while = 0\n",
        "product_while = 1\n",
        "num = 1\n",
        "\n",
        "while num <= 10:\n",
        "    sum_while += num\n",
        "    product_while *= num\n",
        "    num += 1\n",
        "\n",
        "print(\"\\nUsing while loop:\")\n",
        "print(\"Sum:\", sum_while)\n",
        "print(\"Product:\", product_while)\n"
      ],
      "metadata": {
        "colab": {
          "base_uri": "https://localhost:8080/"
        },
        "id": "4wAapmcnAJGz",
        "outputId": "9f52bb07-6b16-4c94-94e7-bd24a8b41478"
      },
      "execution_count": 4,
      "outputs": [
        {
          "output_type": "stream",
          "name": "stdout",
          "text": [
            "\n",
            "Using while loop:\n",
            "Sum: 55\n",
            "Product: 3628800\n"
          ]
        }
      ]
    },
    {
      "cell_type": "markdown",
      "source": [
        "3-Q3. Create a python program to compute the electricity bill for a household.                                                                                                                                                             The per-unit charges in rupees are as follows: For the first 100 units, the user will be charged Rs. 4.5 per\n",
        "unit, for the next 100 units, the user will be charged Rs. 6 per unit, and for the next 100 units, the user will\n",
        "be charged Rs. 10 per unit, After 300 units and above the user will be charged Rs. 20 per unit.\n",
        "You are required to take the units of electricity consumed in a month from the user as input.\n",
        "Your program must pass this test case: when the unit of electricity consumed by the user in a month is\n",
        "310, the total electricity bill should be 2250.\n"
      ],
      "metadata": {
        "id": "HONoqJloAkvr"
      }
    },
    {
      "cell_type": "code",
      "source": [
        "def calculate_electricity_bill(units):\n",
        "    bill = 0\n",
        "\n",
        "    if units <= 100:\n",
        "        bill = units * 4.5\n",
        "    elif units <= 200:\n",
        "        bill = (100 * 4.5) + ((units - 100) * 6)\n",
        "    elif units <= 300:\n",
        "        bill = (100 * 4.5) + (100 * 6) + ((units - 200) * 10)\n",
        "    else:\n",
        "        bill = (100 * 4.5) + (100 * 6) + (100 * 10) + ((units - 300) * 20)\n",
        "\n",
        "    return bill\n",
        "\n",
        "# Taking user input\n",
        "units_consumed = int(input(\"Enter the electricity units consumed: \"))\n",
        "total_bill = calculate_electricity_bill(units_consumed)\n",
        "\n",
        "print(\"Total Electricity Bill: Rs.\", total_bill)\n"
      ],
      "metadata": {
        "colab": {
          "base_uri": "https://localhost:8080/"
        },
        "id": "XVLYt46IA0mB",
        "outputId": "0f8608c8-ba8f-47eb-99ab-786137980901"
      },
      "execution_count": 5,
      "outputs": [
        {
          "output_type": "stream",
          "name": "stdout",
          "text": [
            "Enter the electricity units consumed: 300\n",
            "Total Electricity Bill: Rs. 2050.0\n"
          ]
        }
      ]
    },
    {
      "cell_type": "markdown",
      "source": [
        "4-Q4. Create a list of numbers from 1 to 100. Use for loop and while loop to calculate the cube of each\n",
        "number and if the cube of that number is divisible by 4 or 5 then append that number in a list and print\n",
        "that list."
      ],
      "metadata": {
        "id": "4crtxKvhAQdW"
      }
    },
    {
      "cell_type": "code",
      "source": [
        "# Create a list of numbers from 1 to 100\n",
        "numbers = list(range(1, 101))\n",
        "\n",
        "# List to store numbers whose cubes are divisible by 4 or 5\n",
        "result_for = []\n",
        "\n",
        "for num in numbers:\n",
        "    cube = num ** 3\n",
        "    if cube % 4 == 0 or cube % 5 == 0:\n",
        "        result_for.append(num)\n",
        "\n",
        "print(\"Using for loop:\", result_for)\n"
      ],
      "metadata": {
        "colab": {
          "base_uri": "https://localhost:8080/"
        },
        "id": "HBeyG9JnA-_x",
        "outputId": "7c018753-95fb-4f3c-8a69-d86fbb405c41"
      },
      "execution_count": 6,
      "outputs": [
        {
          "output_type": "stream",
          "name": "stdout",
          "text": [
            "Using for loop: [2, 4, 5, 6, 8, 10, 12, 14, 15, 16, 18, 20, 22, 24, 25, 26, 28, 30, 32, 34, 35, 36, 38, 40, 42, 44, 45, 46, 48, 50, 52, 54, 55, 56, 58, 60, 62, 64, 65, 66, 68, 70, 72, 74, 75, 76, 78, 80, 82, 84, 85, 86, 88, 90, 92, 94, 95, 96, 98, 100]\n"
          ]
        }
      ]
    },
    {
      "cell_type": "code",
      "source": [
        "# Using a while loop\n",
        "result_while = []\n",
        "num = 1\n",
        "\n",
        "while num <= 100:\n",
        "    cube = num ** 3\n",
        "    if cube % 4 == 0 or cube % 5 == 0:\n",
        "        result_while.append(num)\n",
        "    num += 1\n",
        "\n",
        "print(\"\\nUsing while loop:\", result_while)\n"
      ],
      "metadata": {
        "colab": {
          "base_uri": "https://localhost:8080/"
        },
        "id": "TXmkQa1iBJw9",
        "outputId": "02fe155d-aa0c-4638-87a8-da8f9618cc36"
      },
      "execution_count": 7,
      "outputs": [
        {
          "output_type": "stream",
          "name": "stdout",
          "text": [
            "\n",
            "Using while loop: [2, 4, 5, 6, 8, 10, 12, 14, 15, 16, 18, 20, 22, 24, 25, 26, 28, 30, 32, 34, 35, 36, 38, 40, 42, 44, 45, 46, 48, 50, 52, 54, 55, 56, 58, 60, 62, 64, 65, 66, 68, 70, 72, 74, 75, 76, 78, 80, 82, 84, 85, 86, 88, 90, 92, 94, 95, 96, 98, 100]\n"
          ]
        }
      ]
    },
    {
      "cell_type": "markdown",
      "source": [
        "Q5. Write a program to filter count vowels in the below-given string.\n",
        "string = \"I want to become a data scientist\""
      ],
      "metadata": {
        "id": "LGilHwUQBKrZ"
      }
    },
    {
      "cell_type": "code",
      "source": [
        "# Given string\n",
        "string = \"I want to become a data scientist\"\n",
        "\n",
        "# Vowel list\n",
        "vowels = \"AEIOUaeiou\"\n",
        "\n",
        "# Using list comprehension to filter vowels\n",
        "vowel_list = [char for char in string if char in vowels]\n",
        "\n",
        "# Counting vowels\n",
        "vowel_count = len(vowel_list)\n",
        "\n",
        "# Printing result\n",
        "print(\"Vowels in the string:\", vowel_list)\n",
        "print(\"Total count of vowels:\", vowel_count)\n"
      ],
      "metadata": {
        "colab": {
          "base_uri": "https://localhost:8080/"
        },
        "id": "NtO5TceqBO0n",
        "outputId": "36f7a684-7bc0-46f0-a9ca-f7fa42bf752a"
      },
      "execution_count": 8,
      "outputs": [
        {
          "output_type": "stream",
          "name": "stdout",
          "text": [
            "Vowels in the string: ['I', 'a', 'o', 'e', 'o', 'e', 'a', 'a', 'a', 'i', 'e', 'i']\n",
            "Total count of vowels: 12\n"
          ]
        }
      ]
    }
  ]
}